{
 "cells": [
  {
   "cell_type": "markdown",
   "metadata": {
    "id": "z_V_A8T_QJtp"
   },
   "source": [
    "___\n",
    "\n",
    "Mr. Yogesh P Murumkar (Mob. 9657080906)\n",
    "\n",
    "https://www.youtube.com/c/yogeshmurumkar\n",
    "___\n",
    "# Python Course Exercises 1\n",
    "\n",
    "This is an optional exercise to test your understanding of Python Basics. If you find this extremely challenging, then you probably are not ready for the rest of this course yet and don't have enough programming experience to continue. I would suggest you take another course more geared towards complete beginners."
   ]
  },
  {
   "cell_type": "markdown",
   "metadata": {
    "id": "xBGUpw8-QJtx"
   },
   "source": [
    "## Exercises\n",
    "\n",
    "Answer the questions or complete the tasks outlined in bold below, use the specific method described if applicable."
   ]
  },
  {
   "cell_type": "markdown",
   "metadata": {
    "id": "Tu4Ttsj0QJtz"
   },
   "source": [
    "** What is 7 to the power of 4?**"
   ]
  },
  {
   "cell_type": "code",
   "execution_count": 3,
   "metadata": {
    "colab": {
     "base_uri": "https://localhost:8080/"
    },
    "executionInfo": {
     "elapsed": 4,
     "status": "ok",
     "timestamp": 1649394640794,
     "user": {
      "displayName": "Dhanshri Patil",
      "userId": "02061507056400757161"
     },
     "user_tz": -330
    },
    "id": "cWIR4g_uQJt0",
    "outputId": "924f0698-72e6-4744-b4f6-b6d8e75102c1"
   },
   "outputs": [
    {
     "data": {
      "text/plain": [
       "2401"
      ]
     },
     "execution_count": 3,
     "metadata": {},
     "output_type": "execute_result"
    }
   ],
   "source": [
    "7**4"
   ]
  },
  {
   "cell_type": "markdown",
   "metadata": {
    "id": "9elwvS6QQJt3"
   },
   "source": [
    "** Split this string:**\n",
    "\n",
    "    s = \"Hi there Yogesh!\"\n",
    "    \n",
    "**into a list. **"
   ]
  },
  {
   "cell_type": "code",
   "execution_count": 4,
   "metadata": {
    "colab": {
     "base_uri": "https://localhost:8080/"
    },
    "executionInfo": {
     "elapsed": 691,
     "status": "ok",
     "timestamp": 1659335052870,
     "user": {
      "displayName": "vaishnavi gaurkar",
      "userId": "09494641570742533631"
     },
     "user_tz": -330
    },
    "id": "56HyQIsxQJt5",
    "outputId": "4bd92731-006b-4356-a869-22e634968eef"
   },
   "outputs": [
    {
     "data": {
      "text/plain": [
       "['Hi', 'there', 'Yogesh!']"
      ]
     },
     "execution_count": 4,
     "metadata": {},
     "output_type": "execute_result"
    }
   ],
   "source": [
    "s = \"Hi there Yogesh!\"\n",
    "s.split()"
   ]
  },
  {
   "cell_type": "markdown",
   "metadata": {
    "id": "XAShUFRpQJt7"
   },
   "source": [
    "** Given the variables:**\n",
    "\n",
    "    planet = \"Earth\"\n",
    "    diameter = 12742\n",
    "\n",
    "** Use .format() to print the following string: **\n",
    "\n",
    "    The diameter of Earth is 12742 kilometers."
   ]
  },
  {
   "cell_type": "code",
   "execution_count": 6,
   "metadata": {
    "id": "LU3iNVUIQJt9"
   },
   "outputs": [],
   "source": [
    "planet = \"Earth\"\n",
    "diameter = 12742"
   ]
  },
  {
   "cell_type": "code",
   "execution_count": 8,
   "metadata": {
    "id": "J6rjkMKOQJt_",
    "outputId": "994a2925-0725-4e4f-cb63-5a791973d606"
   },
   "outputs": [
    {
     "data": {
      "text/plain": [
       "'The diameter of Earth is 12742 kilometers'"
      ]
     },
     "execution_count": 8,
     "metadata": {},
     "output_type": "execute_result"
    }
   ],
   "source": [
    " \"The diameter of {0} is {1} kilometers\".format(planet,diameter)"
   ]
  },
  {
   "cell_type": "markdown",
   "metadata": {
    "id": "ughIjEVmQJuA"
   },
   "source": [
    "** Given this nested list, use indexing to grab the word \"hello\" **"
   ]
  },
  {
   "cell_type": "code",
   "execution_count": 15,
   "metadata": {
    "id": "CICK3SenQJuB"
   },
   "outputs": [],
   "source": [
    "lst = [1,2,[3,4],[5,[100,200,['hello']],23,11],1,7]"
   ]
  },
  {
   "cell_type": "code",
   "execution_count": 20,
   "metadata": {
    "id": "bzy0iB1gQJuD",
    "outputId": "21072807-abf1-4919-bf5e-d8c46d4d4648"
   },
   "outputs": [
    {
     "data": {
      "text/plain": [
       "['hello']"
      ]
     },
     "execution_count": 20,
     "metadata": {},
     "output_type": "execute_result"
    }
   ],
   "source": [
    "lst[3][1][2]"
   ]
  },
  {
   "cell_type": "markdown",
   "metadata": {
    "id": "KvZZ9uOAQJuD"
   },
   "source": [
    "** Given this nested dictionary grab the word \"hello\". Be prepared, this will be annoying/tricky **"
   ]
  },
  {
   "cell_type": "code",
   "execution_count": 23,
   "metadata": {
    "id": "6UYjb58KQJuE"
   },
   "outputs": [],
   "source": [
    "d = {'k1':[1,2,3,{'tricky':['oh','man','inception',\n",
    "                            {'target':[1,2,3,'hello']}]}]}"
   ]
  },
  {
   "cell_type": "code",
   "execution_count": 26,
   "metadata": {
    "id": "qEHcy_WhQJuE",
    "outputId": "3bed0670-8901-45f4-804f-4db1d7b256bc"
   },
   "outputs": [
    {
     "data": {
      "text/plain": [
       "'hello'"
      ]
     },
     "execution_count": 26,
     "metadata": {},
     "output_type": "execute_result"
    }
   ],
   "source": [
    "d['k1'][3]['tricky'][3]['target'][3]       "
   ]
  },
  {
   "cell_type": "markdown",
   "metadata": {
    "id": "2K65VtFZQJuF"
   },
   "source": [
    "** What is the main difference between a tuple and a list? **"
   ]
  },
  {
   "cell_type": "code",
   "execution_count": null,
   "metadata": {
    "collapsed": true,
    "id": "bybmMa7sQJuF"
   },
   "outputs": [],
   "source": [
    "# Tuple is immutable"
   ]
  },
  {
   "cell_type": "markdown",
   "metadata": {
    "id": "YlhiTKVdQJuG"
   },
   "source": [
    "** Create a function that grabs the email website domain from a string in the form: **\n",
    "\n",
    "    user@domain.com\n",
    "    \n",
    "**So for example, passing \"user@domain.com\" would return: domain.com**"
   ]
  },
  {
   "cell_type": "code",
   "execution_count": 29,
   "metadata": {
    "id": "97fbiFEDQJuH"
   },
   "outputs": [],
   "source": [
    "z = 'shwetakenjale6@gmail.com is my mail'\n",
    "def fun1(z):\n",
    "    if '.com' in z:\n",
    "        s_index = z.find('@')\n",
    "        e_index = z.find('.com')\n",
    "        t = z[s_index + 1 : e_index + 4]\n",
    "        return t\n",
    "        "
   ]
  },
  {
   "cell_type": "code",
   "execution_count": 30,
   "metadata": {
    "id": "Ntnzy8_WQJuH",
    "outputId": "fe2c3de2-9ff8-4f69-8c1a-67c8c27ad2c5"
   },
   "outputs": [
    {
     "data": {
      "text/plain": [
       "'gmail.com'"
      ]
     },
     "execution_count": 30,
     "metadata": {},
     "output_type": "execute_result"
    }
   ],
   "source": [
    "fun1('shwetakenjale6@gmail.com is my mail')         "
   ]
  },
  {
   "cell_type": "markdown",
   "metadata": {
    "id": "gwiE_tcKQJuH"
   },
   "source": [
    "** Create a basic function that returns True if the word 'dog' is contained in the input string. Don't worry about edge cases like a punctuation being attached to the word dog, but do account for capitalization. **"
   ]
  },
  {
   "cell_type": "code",
   "execution_count": 31,
   "metadata": {
    "id": "D-R4e4EnQJuI"
   },
   "outputs": [],
   "source": [
    "def findDog(t):\n",
    "    if 'dog' in t.lower().split():\n",
    "        return True\n",
    "    else:\n",
    "        return False\n",
    "    "
   ]
  },
  {
   "cell_type": "code",
   "execution_count": 32,
   "metadata": {
    "id": "2b4jgFPOQJuI",
    "outputId": "a837ea6f-c68e-4314-e030-7345bacc86aa"
   },
   "outputs": [
    {
     "data": {
      "text/plain": [
       "True"
      ]
     },
     "execution_count": 32,
     "metadata": {},
     "output_type": "execute_result"
    }
   ],
   "source": [
    "findDog('Is there a dog here?')"
   ]
  },
  {
   "cell_type": "markdown",
   "metadata": {
    "id": "w3UV5uuaQJuJ"
   },
   "source": [
    "** Create a function that counts the number of times the word \"dog\" occurs in a string. Again ignore edge cases. **"
   ]
  },
  {
   "cell_type": "code",
   "execution_count": 33,
   "metadata": {
    "id": "5oMhr3-qQJuJ"
   },
   "outputs": [],
   "source": [
    "def countDog(a):\n",
    "    x = a.lower().split()\n",
    "    count = 0\n",
    "    for z in x:\n",
    "        if z == 'dog':\n",
    "            count = count + 1\n",
    "    print(count)"
   ]
  },
  {
   "cell_type": "code",
   "execution_count": 34,
   "metadata": {
    "id": "1HxTPIaLQJuJ",
    "outputId": "35354736-0d1b-40c2-e1d1-b973592381f9"
   },
   "outputs": [
    {
     "name": "stdout",
     "output_type": "stream",
     "text": [
      "2\n"
     ]
    }
   ],
   "source": [
    "countDog('This dog runs faster than the other dog dude!')"
   ]
  },
  {
   "cell_type": "markdown",
   "metadata": {
    "id": "ncs1mE9SQJuK"
   },
   "source": [
    "** Use lambda expressions and the filter() function to filter out words from a list that don't start with the letter 's'. For example:**\n",
    "\n",
    "    seq = ['soup','dog','salad','cat','great']\n",
    "\n",
    "**should be filtered down to:**\n",
    "\n",
    "    ['soup','salad']"
   ]
  },
  {
   "cell_type": "code",
   "execution_count": 36,
   "metadata": {
    "id": "DFR_5vgPQJuL"
   },
   "outputs": [],
   "source": [
    "seq = ['soup','dog','salad','cat','great']"
   ]
  },
  {
   "cell_type": "code",
   "execution_count": 37,
   "metadata": {
    "id": "IbPc-SK-QJuL",
    "outputId": "d5bf04a1-c0a2-4fbf-bf3e-f3d68bf8ce6b"
   },
   "outputs": [
    {
     "data": {
      "text/plain": [
       "['dog', 'cat', 'great']"
      ]
     },
     "execution_count": 37,
     "metadata": {},
     "output_type": "execute_result"
    }
   ],
   "source": [
    "list(filter(lambda x: x[0] != 's' , seq))"
   ]
  },
  {
   "cell_type": "code",
   "execution_count": null,
   "metadata": {
    "id": "WZB9cYH-QJuM"
   },
   "outputs": [],
   "source": [
    "### Final Problem\n",
    "**You are driving a little too fast, and a police officer stops you. Write a function\n",
    "  to return one of 3 possible results: \"No ticket\", \"Small ticket\", or \"Big Ticket\". \n",
    "  If your speed is 60 or less, the result is \"No Ticket\". If speed is between 61 \n",
    "  and 80 inclusive, the result is \"Small Ticket\". If speed is 81 or more, the result is \"Big    Ticket\". Unless it is your birthday (encoded as a boolean value in the parameters of the function) -- on your birthday, your speed can be 5 higher in all \n",
    "  cases. **"
   ]
  },
  {
   "cell_type": "code",
   "execution_count": 43,
   "metadata": {
    "id": "MF56ggOQQJuM"
   },
   "outputs": [],
   "source": [
    "def caught_speeding(speed, is_birthday):\n",
    "    \n",
    "    if is_birthday:\n",
    "        if speed <= 65:\n",
    "            return 'No Ticket'\n",
    "        elif (66 <= speed <= 85):\n",
    "            return 'Small Ticket'\n",
    "        else:\n",
    "            return 'Big Ticket'\n",
    "    else:\n",
    "        if speed <= 60:\n",
    "            return 'No Ticket'\n",
    "        elif (61 <= speed <= 80):\n",
    "            return 'Small Ticket'\n",
    "        else:\n",
    "            return 'Big Ticket'\n",
    "        \n",
    "      "
   ]
  },
  {
   "cell_type": "code",
   "execution_count": 44,
   "metadata": {
    "id": "3QU9IrRmQJuN",
    "outputId": "0faac5e7-eff4-4d99-8b41-235f65781276"
   },
   "outputs": [
    {
     "data": {
      "text/plain": [
       "'Small Ticket'"
      ]
     },
     "execution_count": 44,
     "metadata": {},
     "output_type": "execute_result"
    }
   ],
   "source": [
    "caught_speeding(81,True)"
   ]
  },
  {
   "cell_type": "code",
   "execution_count": 49,
   "metadata": {
    "id": "1lsXiwFSQJuO",
    "outputId": "c9e6eb99-73af-47c5-f22c-bf0d7c873afb"
   },
   "outputs": [
    {
     "data": {
      "text/plain": [
       "'Big Ticket'"
      ]
     },
     "execution_count": 49,
     "metadata": {},
     "output_type": "execute_result"
    }
   ],
   "source": [
    "caught_speeding(81,False)"
   ]
  },
  {
   "cell_type": "code",
   "execution_count": 48,
   "metadata": {
    "id": "8Ckci1sCQJuO",
    "scrolled": true
   },
   "outputs": [
    {
     "ename": "SyntaxError",
     "evalue": "invalid decimal literal (1663754621.py, line 7)",
     "output_type": "error",
     "traceback": [
      "\u001b[1;36m  Cell \u001b[1;32mIn[48], line 7\u001b[1;36m\u001b[0m\n\u001b[1;33m    -123abcd should return -123,abcd456-->456,fdhfh78dsd89--->7889,-56dssd78-->-5678\u001b[0m\n\u001b[1;37m       ^\u001b[0m\n\u001b[1;31mSyntaxError\u001b[0m\u001b[1;31m:\u001b[0m invalid decimal literal\n"
     ]
    }
   ],
   "source": [
    "Question\n",
    "Given a string print number num by extracting all the\n",
    "digits from the string as in string\n",
    "Print negative number if the first character in \n",
    "string is '-'\n",
    "eg.\n",
    "-123abcd should return -123,abcd456-->456,fdhfh78dsd89--->7889,-56dssd78-->-5678"
   ]
  },
  {
   "cell_type": "code",
   "execution_count": 47,
   "metadata": {},
   "outputs": [
    {
     "name": "stdout",
     "output_type": "stream",
     "text": [
      "-5678\n"
     ]
    }
   ],
   "source": [
    "def get_number(s):\n",
    "    o = ''  \n",
    "    i = 0\n",
    "\n",
    "    if s[0] == '-':\n",
    "        o += '-'  \n",
    "        i = 1\n",
    "\n",
    "    while i < len(s):  \n",
    "        if s[i].isnumeric():\n",
    "            o += s[i]  \n",
    "        i += 1\n",
    "\n",
    "    print(o)\n",
    "get_number(\"-56dssd78\")"
   ]
  },
  {
   "cell_type": "code",
   "execution_count": null,
   "metadata": {
    "id": "Aoj2DERXQJuP"
   },
   "outputs": [],
   "source": [
    "Q2\n",
    "WAP to check whether a number is palindrome or not on following \n",
    "conditions.\n",
    "1. take input number\n",
    "2. add number and its reverse\n",
    "3. check that number is palindrome or not,if not then sum and its reverse"
   ]
  },
  {
   "cell_type": "code",
   "execution_count": 55,
   "metadata": {},
   "outputs": [
    {
     "name": "stdout",
     "output_type": "stream",
     "text": [
      "Enter the number:88\n",
      "Number is: 847\n",
      "Reverse is: 748\n",
      "Number is: 1595\n",
      "Reverse is: 5951\n",
      "Number is: 7546\n",
      "Reverse is: 6457\n",
      "Number is: 14003\n",
      "Reverse is: 30041\n",
      "Number is: 44044\n",
      "Reverse is: 44044\n",
      "Palindrome is: 44044\n"
     ]
    }
   ],
   "source": [
    "n1=input(\"Enter the number:\")\n",
    "n2=int(n1[::-1])\n",
    "n3=str(int(n1)+n2)\n",
    "while n3!=n3[::-1]:\n",
    "    n3=str(int(n3)+int(n3[::-1]))\n",
    "    print(\"Number is:\",n3)\n",
    "    print(\"Reverse is:\",n3[::-1])\n",
    "print(\"Palindrome is:\",n3)"
   ]
  },
  {
   "cell_type": "code",
   "execution_count": 54,
   "metadata": {
    "id": "82LZn3ZNQJuP"
   },
   "outputs": [
    {
     "ename": "SyntaxError",
     "evalue": "invalid syntax (2774450109.py, line 1)",
     "output_type": "error",
     "traceback": [
      "\u001b[1;36m  Cell \u001b[1;32mIn[54], line 1\u001b[1;36m\u001b[0m\n\u001b[1;33m    Write a python function to find and display the five\u001b[0m\n\u001b[1;37m          ^\u001b[0m\n\u001b[1;31mSyntaxError\u001b[0m\u001b[1;31m:\u001b[0m invalid syntax\n"
     ]
    }
   ],
   "source": [
    "Write a python function to find and display the five \n",
    "digit number in which the first digit is two more than \n",
    "the second,the second digit is two more than the third,\n",
    "the fourth digit is two less than the third, and the \n",
    "last digit is two more than\n",
    "the fourth.The sum of the third,fourth and fifth digits\n",
    "equals the first.The sum of all the digits is 19"
   ]
  },
  {
   "cell_type": "code",
   "execution_count": 56,
   "metadata": {
    "id": "z1mWzCN4QJuQ"
   },
   "outputs": [
    {
     "name": "stdout",
     "output_type": "stream",
     "text": [
      "The five-digit number meeting the conditions is: None\n"
     ]
    }
   ],
   "source": [
    "import random\n",
    "\n",
    "def find_five_digit():\n",
    "    t = random.randint(0, 9)\n",
    "    \n",
    "    s = t + 2\n",
    "    a = s + 2\n",
    "    c = t - 2\n",
    "    d = c + 2\n",
    "    \n",
    "    if (a == t + c + d) and (a + s + t + c + d == 19):\n",
    "        number = str(a) + str(s) + str(t) + str(c) + str(d)\n",
    "        return int(number)  \n",
    "\n",
    "result = find_five_digit()\n",
    "print(f\"The five-digit number meeting the conditions is: {result}\")\n",
    "\n",
    "    "
   ]
  },
  {
   "cell_type": "code",
   "execution_count": null,
   "metadata": {
    "id": "HeCG7YXdQJuQ"
   },
   "outputs": [],
   "source": []
  },
  {
   "cell_type": "markdown",
   "metadata": {
    "id": "HQI8SaqWQJuR"
   },
   "source": [
    "# Great job!"
   ]
  }
 ],
 "metadata": {
  "colab": {
   "name": "02-Python Crash Course Exercises.ipynb",
   "provenance": []
  },
  "kernelspec": {
   "display_name": "Python 3 (ipykernel)",
   "language": "python",
   "name": "python3"
  },
  "language_info": {
   "codemirror_mode": {
    "name": "ipython",
    "version": 3
   },
   "file_extension": ".py",
   "mimetype": "text/x-python",
   "name": "python",
   "nbconvert_exporter": "python",
   "pygments_lexer": "ipython3",
   "version": "3.11.5"
  }
 },
 "nbformat": 4,
 "nbformat_minor": 1
}
